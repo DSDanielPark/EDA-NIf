{
 "cells": [
  {
   "cell_type": "code",
   "execution_count": 1,
   "metadata": {},
   "outputs": [],
   "source": [
    "import edanif"
   ]
  },
  {
   "cell_type": "code",
   "execution_count": 2,
   "metadata": {},
   "outputs": [],
   "source": [
    "nii_folder_path = r'C:\\Users\\parkm\\Desktop\\github\\ANALYSIS-NIFTI-FOR-DEEP-LEARNING\\data\\task1.stroke_multimodal\\dataset-ISLES22^public^unzipped^version'"
   ]
  },
  {
   "cell_type": "code",
   "execution_count": 3,
   "metadata": {},
   "outputs": [
    {
     "ename": "TypeError",
     "evalue": "'module' object is not callable",
     "output_type": "error",
     "traceback": [
      "\u001b[1;31m---------------------------------------------------------------------------\u001b[0m",
      "\u001b[1;31mTypeError\u001b[0m                                 Traceback (most recent call last)",
      "\u001b[1;32mc:\\Users\\parkm\\Desktop\\github\\edanif\\tutorials\\edanif_tutorial.ipynb Cell 3\u001b[0m in \u001b[0;36m<cell line: 1>\u001b[1;34m()\u001b[0m\n\u001b[1;32m----> <a href='vscode-notebook-cell:/c%3A/Users/parkm/Desktop/github/edanif/tutorials/edanif_tutorial.ipynb#X10sZmlsZQ%3D%3D?line=0'>1</a>\u001b[0m edanif\u001b[39m.\u001b[39;49mmeta_df(nii_folder_path, \u001b[39m'\u001b[39;49m\u001b[39mnii.gz\u001b[39;49m\u001b[39m'\u001b[39;49m, \u001b[39m'\u001b[39;49m\u001b[39mdf_raw_nii_meta.csv\u001b[39;49m\u001b[39m'\u001b[39;49m, \u001b[39mFalse\u001b[39;49;00m)\n",
      "File \u001b[1;32m~\\AppData\\Roaming\\Python\\Python39\\site-packages\\edanif\\eda_nif.py:38\u001b[0m, in \u001b[0;36mmeta_df\u001b[1;34m(nifti_folder_path, include_word, save_path, is_binary)\u001b[0m\n\u001b[0;32m     36\u001b[0m n_count \u001b[39m=\u001b[39m np\u001b[39m.\u001b[39mcount_nonzero \n\u001b[0;32m     37\u001b[0m all_nifti_files \u001b[39m=\u001b[39m edanif\u001b[39m.\u001b[39mfind_all_files(nifti_folder_path, include_word)\n\u001b[1;32m---> 38\u001b[0m \u001b[39mfor\u001b[39;00m i, nifti_path \u001b[39min\u001b[39;00m tqdm(\u001b[39menumerate\u001b[39;49m(all_nifti_files), total\u001b[39m=\u001b[39;49m\u001b[39mlen\u001b[39;49m(all_nifti_files)):\n\u001b[0;32m     39\u001b[0m     temp_dict \u001b[39m=\u001b[39m \u001b[39mdict\u001b[39m()\n\u001b[0;32m     40\u001b[0m     img \u001b[39m=\u001b[39m nib\u001b[39m.\u001b[39mload(nifti_path)\n",
      "\u001b[1;31mTypeError\u001b[0m: 'module' object is not callable"
     ]
    }
   ],
   "source": [
    "edanif.meta_df(nii_folder_path, 'nii.gz', 'df_raw_nii_meta.csv', False)"
   ]
  }
 ],
 "metadata": {
  "kernelspec": {
   "display_name": "edanif",
   "language": "python",
   "name": "edanif"
  },
  "language_info": {
   "codemirror_mode": {
    "name": "ipython",
    "version": 3
   },
   "file_extension": ".py",
   "mimetype": "text/x-python",
   "name": "python",
   "nbconvert_exporter": "python",
   "pygments_lexer": "ipython3",
   "version": "3.9.12"
  },
  "orig_nbformat": 4
 },
 "nbformat": 4,
 "nbformat_minor": 2
}
