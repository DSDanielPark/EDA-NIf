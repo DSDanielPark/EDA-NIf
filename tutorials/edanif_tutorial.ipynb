{
 "cells": [
  {
   "cell_type": "code",
   "execution_count": 1,
   "metadata": {},
   "outputs": [
    {
     "data": {
      "text/plain": [
       "'0.1.6'"
      ]
     },
     "execution_count": 1,
     "metadata": {},
     "output_type": "execute_result"
    }
   ],
   "source": [
    "import edanif\n",
    "edanif.__version__"
   ]
  },
  {
   "attachments": {},
   "cell_type": "markdown",
   "metadata": {},
   "source": [
    "# 0 Sample data folder tree\n",
    "\n",
    "The sample data folder is designed with an unnecessary and complex structure to show that all nifti files under the top-level folder path are collected recursively. If you are using the BIDS format, you only need to insert keywords properly."
   ]
  },
  {
   "attachments": {},
   "cell_type": "markdown",
   "metadata": {},
   "source": [
    "```\n",
    "📦data\n",
    " ┣ 📂mask_nifti\n",
    " ┃ ┗ 📂sample1\n",
    " ┃ ┃ ┣ 📂sample2\n",
    " ┃ ┃ ┃ ┗ 📜sample2_mask.nii.gz\n",
    " ┃ ┃ ┗ 📜sample1_mask.nii.gz\n",
    " ┗ 📂raw_nifti\n",
    " ┃ ┣ 📂001\n",
    " ┃ ┃ ┣ 📂adc\n",
    " ┃ ┃ ┃ ┗ 📜sample_adc.gz\n",
    " ┃ ┃ ┗ 📜sample_dwi.nii.gz\n",
    " ┃ ┗ 📂002\n",
    " ┃ ┃ ┣ 📂adc\n",
    " ┃ ┃ ┃ ┣ 📂flair\n",
    " ┃ ┃ ┃ ┃ ┣ 📂sample_dwi\n",
    " ┃ ┃ ┃ ┃ ┃ ┗ 📜sub-strokecase0062_ses-0001_dwi.nii.gz\n",
    " ┃ ┃ ┃ ┃ ┗ 📜sample2_flair.nii.gz\n",
    " ┃ ┃ ┃ ┗ 📜sample2_adc.gz\n",
    " ┃ ┃ ┗ 📜sub-strokecase0062_ses-0001_dwi.nii.gz\n",
    " ```"
   ]
  },
  {
   "attachments": {},
   "cell_type": "markdown",
   "metadata": {},
   "source": [
    "# 1 get meta dataframe"
   ]
  },
  {
   "cell_type": "markdown",
   "metadata": {},
   "source": [
    "\n",
    "The resulting data frame can be used by removing necessary information and customizing it appropriately."
   ]
  },
  {
   "attachments": {},
   "cell_type": "markdown",
   "metadata": {},
   "source": [
    "## 1.1 `edanif.meta_df` \n",
    "- if nifti files are NOT binary file. (raw nifti files)"
   ]
  },
  {
   "cell_type": "code",
   "execution_count": 2,
   "metadata": {},
   "outputs": [
    {
     "name": "stdout",
     "output_type": "stream",
     "text": [
      "\u001b[1;31mSignature:\u001b[0m\n",
      "\u001b[0medanif\u001b[0m\u001b[1;33m.\u001b[0m\u001b[0mmeta_df\u001b[0m\u001b[1;33m(\u001b[0m\u001b[1;33m\n",
      "\u001b[0m    \u001b[0mnifti_folder_path\u001b[0m\u001b[1;33m:\u001b[0m \u001b[0mstr\u001b[0m\u001b[1;33m,\u001b[0m\u001b[1;33m\n",
      "\u001b[0m    \u001b[0minclude_word\u001b[0m\u001b[1;33m:\u001b[0m \u001b[0mstr\u001b[0m\u001b[1;33m,\u001b[0m\u001b[1;33m\n",
      "\u001b[0m    \u001b[0msave_path\u001b[0m\u001b[1;33m:\u001b[0m \u001b[0mstr\u001b[0m\u001b[1;33m,\u001b[0m\u001b[1;33m\n",
      "\u001b[0m    \u001b[0mis_binary\u001b[0m\u001b[1;33m:\u001b[0m \u001b[0mbool\u001b[0m\u001b[1;33m,\u001b[0m\u001b[1;33m\n",
      "\u001b[0m\u001b[1;33m)\u001b[0m \u001b[1;33m->\u001b[0m \u001b[0mpandas\u001b[0m\u001b[1;33m.\u001b[0m\u001b[0mcore\u001b[0m\u001b[1;33m.\u001b[0m\u001b[0mframe\u001b[0m\u001b[1;33m.\u001b[0m\u001b[0mDataFrame\u001b[0m\u001b[1;33m\u001b[0m\u001b[1;33m\u001b[0m\u001b[0m\n",
      "\u001b[1;31mDocstring:\u001b[0m\n",
      "If you enter the top-level folder path that contains the nifti files you want to obtain meta data for and keywords (such as 'nii.gz','mask.n) \n",
      "commonly included in those nifti files, a meta data frame is created.\n",
      "\n",
      ":param nifti_folder_path: \n",
      "    This is the top-level folder path that contains the nifti files you want to obtain metadata from, recursively traverse all folders.\n",
      ":type nifti_folder_path: str\n",
      ":param include_word: \n",
      "    Enter keywords commonly included in nifti files (such as 'nii.gz', 'mask.nii.gz') in the parent folder path.\n",
      ":type include_word: str\n",
      ":param save_path: Enter the full path to the csv file to save the meta dataframe to.\n",
      ":type save_path: str\n",
      ":param is_binary: Enter True in case of a binary file such as a mask nifti file.\n",
      ":type is_binary: bool\n",
      ":return: \n",
      "    pandas.DataFrame containing meta information and appended information of each nifti file\n",
      ":rtype: pd.DataFrame\n",
      "\u001b[1;31mFile:\u001b[0m      c:\\users\\parkm\\appdata\\roaming\\python\\python39\\site-packages\\edanif\\eda_nif.py\n",
      "\u001b[1;31mType:\u001b[0m      function\n"
     ]
    }
   ],
   "source": [
    "edanif.meta_df?"
   ]
  },
  {
   "cell_type": "code",
   "execution_count": 3,
   "metadata": {},
   "outputs": [
    {
     "name": "stderr",
     "output_type": "stream",
     "text": [
      "100%|██████████| 4/4 [00:00<00:00, 12.31it/s]\n"
     ]
    }
   ],
   "source": [
    "raw_nifti_folder= '../data/raw_nifti'\n",
    "df_raw_nii = edanif.meta_df(raw_nifti_folder, 'nii.gz', 'df_raw_nii_meta.csv', False)"
   ]
  },
  {
   "cell_type": "code",
   "execution_count": 4,
   "metadata": {},
   "outputs": [
    {
     "data": {
      "text/html": [
       "<div>\n",
       "<style scoped>\n",
       "    .dataframe tbody tr th:only-of-type {\n",
       "        vertical-align: middle;\n",
       "    }\n",
       "\n",
       "    .dataframe tbody tr th {\n",
       "        vertical-align: top;\n",
       "    }\n",
       "\n",
       "    .dataframe thead th {\n",
       "        text-align: right;\n",
       "    }\n",
       "</style>\n",
       "<table border=\"1\" class=\"dataframe\">\n",
       "  <thead>\n",
       "    <tr style=\"text-align: right;\">\n",
       "      <th></th>\n",
       "      <th>filePath</th>\n",
       "      <th>volumeOfVoxel</th>\n",
       "      <th>spacing</th>\n",
       "      <th>imgAffineMetrix</th>\n",
       "      <th>fileName</th>\n",
       "      <th>data_dtype</th>\n",
       "      <th>niftiImgShape</th>\n",
       "      <th>XYZTunits</th>\n",
       "      <th>hdrRaw</th>\n",
       "      <th>3dArrayMean</th>\n",
       "      <th>3dArrayStd</th>\n",
       "      <th>3dArrayMin</th>\n",
       "      <th>3dArrayMax</th>\n",
       "      <th>isUniqueValues</th>\n",
       "    </tr>\n",
       "  </thead>\n",
       "  <tbody>\n",
       "    <tr>\n",
       "      <th>0</th>\n",
       "      <td>../data/raw_nifti\\001\\sample_dwi.nii.gz</td>\n",
       "      <td>8.0mm3</td>\n",
       "      <td>2.0mm x 2.0mm x 2.0mm</td>\n",
       "      <td>[[-2.0, -0.0, 0.0, 119.0], [-0.0, 2.0, -0.0, -...</td>\n",
       "      <td>sample_dw</td>\n",
       "      <td>float64</td>\n",
       "      <td>(112, 112, 73)</td>\n",
       "      <td>(mm, unknown)</td>\n",
       "      <td>(348, b'', b'', 0, 0, b'r', 0, [  3, 112, 112,...</td>\n",
       "      <td>52.258819</td>\n",
       "      <td>113.5437</td>\n",
       "      <td>-5.656227</td>\n",
       "      <td>-5.656227</td>\n",
       "      <td>[-5.6562269148536535, -5.0536331132121255, -3....</td>\n",
       "    </tr>\n",
       "    <tr>\n",
       "      <th>1</th>\n",
       "      <td>../data/raw_nifti\\002\\sub-strokecase0062_ses-0...</td>\n",
       "      <td>8.0mm3</td>\n",
       "      <td>2.0mm x 2.0mm x 2.0mm</td>\n",
       "      <td>[[-2.0, -0.0, 0.0, 115.0], [-0.0, 2.0, -0.0, -...</td>\n",
       "      <td>sub-strokecase0062_ses-0001_dw</td>\n",
       "      <td>float64</td>\n",
       "      <td>(112, 112, 72)</td>\n",
       "      <td>(mm, unknown)</td>\n",
       "      <td>(348, b'', b'', 0, 0, b'r', 0, [  3, 112, 112,...</td>\n",
       "      <td>33.445828</td>\n",
       "      <td>95.848851</td>\n",
       "      <td>-0.0</td>\n",
       "      <td>-0.0</td>\n",
       "      <td>[-3.014510863152964e-11, -2.5530133562767787e-...</td>\n",
       "    </tr>\n",
       "    <tr>\n",
       "      <th>2</th>\n",
       "      <td>../data/raw_nifti\\002\\adc\\flair\\sample2_flair....</td>\n",
       "      <td>2.1347169876098633mm3</td>\n",
       "      <td>0.6534090638160706mm x 0.6534090638160706mm x ...</td>\n",
       "      <td>[[-1.0, -0.0, 0.0, 119.0], [-0.0, 1.0, -1.0, -...</td>\n",
       "      <td>sample2_flair</td>\n",
       "      <td>float32</td>\n",
       "      <td>(352, 352, 29)</td>\n",
       "      <td>(mm, unknown)</td>\n",
       "      <td>(348, b'', b'', 0, 0, b'r', 0, [  3, 352, 352,...</td>\n",
       "      <td>105.048237</td>\n",
       "      <td>286.574644</td>\n",
       "      <td>0.0</td>\n",
       "      <td>0.0</td>\n",
       "      <td>[0.0, 2.490598201751709, 4.981196403503418, 7....</td>\n",
       "    </tr>\n",
       "    <tr>\n",
       "      <th>3</th>\n",
       "      <td>../data/raw_nifti\\002\\adc\\flair\\sample_dwi\\sub...</td>\n",
       "      <td>8.0mm3</td>\n",
       "      <td>2.0mm x 2.0mm x 2.0mm</td>\n",
       "      <td>[[-2.0, -0.0, 0.0, 115.0], [-0.0, 2.0, -0.0, -...</td>\n",
       "      <td>sub-strokecase0062_ses-0001_dw</td>\n",
       "      <td>float64</td>\n",
       "      <td>(112, 112, 72)</td>\n",
       "      <td>(mm, unknown)</td>\n",
       "      <td>(348, b'', b'', 0, 0, b'r', 0, [  3, 112, 112,...</td>\n",
       "      <td>33.445828</td>\n",
       "      <td>95.848851</td>\n",
       "      <td>-0.0</td>\n",
       "      <td>-0.0</td>\n",
       "      <td>[-3.014510863152964e-11, -2.5530133562767787e-...</td>\n",
       "    </tr>\n",
       "  </tbody>\n",
       "</table>\n",
       "</div>"
      ],
      "text/plain": [
       "                                            filePath          volumeOfVoxel  \\\n",
       "0            ../data/raw_nifti\\001\\sample_dwi.nii.gz                 8.0mm3   \n",
       "1  ../data/raw_nifti\\002\\sub-strokecase0062_ses-0...                 8.0mm3   \n",
       "2  ../data/raw_nifti\\002\\adc\\flair\\sample2_flair....  2.1347169876098633mm3   \n",
       "3  ../data/raw_nifti\\002\\adc\\flair\\sample_dwi\\sub...                 8.0mm3   \n",
       "\n",
       "                                             spacing  \\\n",
       "0                              2.0mm x 2.0mm x 2.0mm   \n",
       "1                              2.0mm x 2.0mm x 2.0mm   \n",
       "2  0.6534090638160706mm x 0.6534090638160706mm x ...   \n",
       "3                              2.0mm x 2.0mm x 2.0mm   \n",
       "\n",
       "                                     imgAffineMetrix  \\\n",
       "0  [[-2.0, -0.0, 0.0, 119.0], [-0.0, 2.0, -0.0, -...   \n",
       "1  [[-2.0, -0.0, 0.0, 115.0], [-0.0, 2.0, -0.0, -...   \n",
       "2  [[-1.0, -0.0, 0.0, 119.0], [-0.0, 1.0, -1.0, -...   \n",
       "3  [[-2.0, -0.0, 0.0, 115.0], [-0.0, 2.0, -0.0, -...   \n",
       "\n",
       "                         fileName data_dtype   niftiImgShape      XYZTunits  \\\n",
       "0                       sample_dw    float64  (112, 112, 73)  (mm, unknown)   \n",
       "1  sub-strokecase0062_ses-0001_dw    float64  (112, 112, 72)  (mm, unknown)   \n",
       "2                   sample2_flair    float32  (352, 352, 29)  (mm, unknown)   \n",
       "3  sub-strokecase0062_ses-0001_dw    float64  (112, 112, 72)  (mm, unknown)   \n",
       "\n",
       "                                              hdrRaw 3dArrayMean  3dArrayStd  \\\n",
       "0  (348, b'', b'', 0, 0, b'r', 0, [  3, 112, 112,...   52.258819    113.5437   \n",
       "1  (348, b'', b'', 0, 0, b'r', 0, [  3, 112, 112,...   33.445828   95.848851   \n",
       "2  (348, b'', b'', 0, 0, b'r', 0, [  3, 352, 352,...  105.048237  286.574644   \n",
       "3  (348, b'', b'', 0, 0, b'r', 0, [  3, 112, 112,...   33.445828   95.848851   \n",
       "\n",
       "  3dArrayMin 3dArrayMax                                     isUniqueValues  \n",
       "0  -5.656227  -5.656227  [-5.6562269148536535, -5.0536331132121255, -3....  \n",
       "1       -0.0       -0.0  [-3.014510863152964e-11, -2.5530133562767787e-...  \n",
       "2        0.0        0.0  [0.0, 2.490598201751709, 4.981196403503418, 7....  \n",
       "3       -0.0       -0.0  [-3.014510863152964e-11, -2.5530133562767787e-...  "
      ]
     },
     "execution_count": 4,
     "metadata": {},
     "output_type": "execute_result"
    }
   ],
   "source": [
    "df_raw_nii"
   ]
  },
  {
   "cell_type": "code",
   "execution_count": 5,
   "metadata": {},
   "outputs": [
    {
     "data": {
      "text/plain": [
       "Index(['filePath', 'volumeOfVoxel', 'spacing', 'imgAffineMetrix', 'fileName',\n",
       "       'data_dtype', 'niftiImgShape', 'XYZTunits', 'hdrRaw', '3dArrayMean',\n",
       "       '3dArrayStd', '3dArrayMin', '3dArrayMax', 'isUniqueValues'],\n",
       "      dtype='object')"
      ]
     },
     "execution_count": 5,
     "metadata": {},
     "output_type": "execute_result"
    }
   ],
   "source": [
    "df_raw_nii.columns"
   ]
  },
  {
   "attachments": {},
   "cell_type": "markdown",
   "metadata": {},
   "source": [
    "## 1.2 `edanif.meta_df` \n",
    "- if nifti files are binary file. (mask nifti files)"
   ]
  },
  {
   "cell_type": "code",
   "execution_count": 6,
   "metadata": {},
   "outputs": [
    {
     "name": "stderr",
     "output_type": "stream",
     "text": [
      "100%|██████████| 2/2 [00:00<00:00, 30.77it/s]\n"
     ]
    }
   ],
   "source": [
    "mask_nifti_folder= '../data/mask_nifti'\n",
    "df_mask_nii = edanif.meta_df(mask_nifti_folder, 'mask.nii.gz', 'df_mask_nii_meta.csv', True)"
   ]
  },
  {
   "cell_type": "code",
   "execution_count": 7,
   "metadata": {},
   "outputs": [
    {
     "data": {
      "text/html": [
       "<div>\n",
       "<style scoped>\n",
       "    .dataframe tbody tr th:only-of-type {\n",
       "        vertical-align: middle;\n",
       "    }\n",
       "\n",
       "    .dataframe tbody tr th {\n",
       "        vertical-align: top;\n",
       "    }\n",
       "\n",
       "    .dataframe thead th {\n",
       "        text-align: right;\n",
       "    }\n",
       "</style>\n",
       "<table border=\"1\" class=\"dataframe\">\n",
       "  <thead>\n",
       "    <tr style=\"text-align: right;\">\n",
       "      <th></th>\n",
       "      <th>filePath</th>\n",
       "      <th>volumeOfVoxel</th>\n",
       "      <th>spacing</th>\n",
       "      <th>imgAffineMetrix</th>\n",
       "      <th>fileName</th>\n",
       "      <th>data_dtype</th>\n",
       "      <th>niftiImgShape</th>\n",
       "      <th>XYZTunits</th>\n",
       "      <th>hdrRaw</th>\n",
       "      <th>3dArrayMean</th>\n",
       "      <th>...</th>\n",
       "      <th>exceptionValueCountInBinary</th>\n",
       "      <th>(quadrant_count)voxelVolumeEstimation</th>\n",
       "      <th>(quadrant_count)topBackLeft</th>\n",
       "      <th>(quadrant_count)topBackRight</th>\n",
       "      <th>(quadrant_count)topFrontLeft</th>\n",
       "      <th>(quadrant_count)topFrontRight</th>\n",
       "      <th>(quadrant_count)bottomBackLeft</th>\n",
       "      <th>(quadrant_count)bottomBackRight</th>\n",
       "      <th>(quadrant_count)bottmoFrontLeft</th>\n",
       "      <th>(quadrant_count)bottomFrontRight</th>\n",
       "    </tr>\n",
       "  </thead>\n",
       "  <tbody>\n",
       "    <tr>\n",
       "      <th>0</th>\n",
       "      <td>../data/mask_nifti\\sample1\\sample1_mask.nii.gz</td>\n",
       "      <td>8.0mm3</td>\n",
       "      <td>2.0mm x 2.0mm x 2.0mm</td>\n",
       "      <td>[[-2.0, 0.0, 0.0, 115.0], [-0.0, 2.0, -1.0, -8...</td>\n",
       "      <td>sample1_mask</td>\n",
       "      <td>uint16</td>\n",
       "      <td>(112, 112, 72)</td>\n",
       "      <td>(mm, unknown)</td>\n",
       "      <td>(348, b'', b'', 0, 0, b'r', 0, [  3, 112, 112,...</td>\n",
       "      <td>0.000131</td>\n",
       "      <td>...</td>\n",
       "      <td>0</td>\n",
       "      <td>944.0</td>\n",
       "      <td>0</td>\n",
       "      <td>28</td>\n",
       "      <td>1</td>\n",
       "      <td>89</td>\n",
       "      <td>0</td>\n",
       "      <td>0</td>\n",
       "      <td>0</td>\n",
       "      <td>0</td>\n",
       "    </tr>\n",
       "    <tr>\n",
       "      <th>1</th>\n",
       "      <td>../data/mask_nifti\\sample1\\sample2\\sample2_mas...</td>\n",
       "      <td>8.0mm3</td>\n",
       "      <td>2.0mm x 2.0mm x 2.0mm</td>\n",
       "      <td>[[-2.0, -0.0, -0.0, 115.0], [-0.0, 2.0, -0.0, ...</td>\n",
       "      <td>sample2_mask</td>\n",
       "      <td>uint16</td>\n",
       "      <td>(112, 112, 73)</td>\n",
       "      <td>(mm, unknown)</td>\n",
       "      <td>(348, b'', b'', 0, 0, b'r', 0, [  3, 112, 112,...</td>\n",
       "      <td>0.000098</td>\n",
       "      <td>...</td>\n",
       "      <td>0</td>\n",
       "      <td>720.0</td>\n",
       "      <td>0</td>\n",
       "      <td>0</td>\n",
       "      <td>0</td>\n",
       "      <td>0</td>\n",
       "      <td>0</td>\n",
       "      <td>0</td>\n",
       "      <td>0</td>\n",
       "      <td>0</td>\n",
       "    </tr>\n",
       "  </tbody>\n",
       "</table>\n",
       "<p>2 rows × 24 columns</p>\n",
       "</div>"
      ],
      "text/plain": [
       "                                            filePath volumeOfVoxel  \\\n",
       "0     ../data/mask_nifti\\sample1\\sample1_mask.nii.gz        8.0mm3   \n",
       "1  ../data/mask_nifti\\sample1\\sample2\\sample2_mas...        8.0mm3   \n",
       "\n",
       "                 spacing                                    imgAffineMetrix  \\\n",
       "0  2.0mm x 2.0mm x 2.0mm  [[-2.0, 0.0, 0.0, 115.0], [-0.0, 2.0, -1.0, -8...   \n",
       "1  2.0mm x 2.0mm x 2.0mm  [[-2.0, -0.0, -0.0, 115.0], [-0.0, 2.0, -0.0, ...   \n",
       "\n",
       "       fileName data_dtype   niftiImgShape      XYZTunits  \\\n",
       "0  sample1_mask     uint16  (112, 112, 72)  (mm, unknown)   \n",
       "1  sample2_mask     uint16  (112, 112, 73)  (mm, unknown)   \n",
       "\n",
       "                                              hdrRaw 3dArrayMean  ...  \\\n",
       "0  (348, b'', b'', 0, 0, b'r', 0, [  3, 112, 112,...    0.000131  ...   \n",
       "1  (348, b'', b'', 0, 0, b'r', 0, [  3, 112, 112,...    0.000098  ...   \n",
       "\n",
       "  exceptionValueCountInBinary (quadrant_count)voxelVolumeEstimation  \\\n",
       "0                           0                                 944.0   \n",
       "1                           0                                 720.0   \n",
       "\n",
       "  (quadrant_count)topBackLeft (quadrant_count)topBackRight  \\\n",
       "0                           0                           28   \n",
       "1                           0                            0   \n",
       "\n",
       "  (quadrant_count)topFrontLeft (quadrant_count)topFrontRight  \\\n",
       "0                            1                            89   \n",
       "1                            0                             0   \n",
       "\n",
       "  (quadrant_count)bottomBackLeft (quadrant_count)bottomBackRight  \\\n",
       "0                              0                               0   \n",
       "1                              0                               0   \n",
       "\n",
       "  (quadrant_count)bottmoFrontLeft (quadrant_count)bottomFrontRight  \n",
       "0                               0                                0  \n",
       "1                               0                                0  \n",
       "\n",
       "[2 rows x 24 columns]"
      ]
     },
     "execution_count": 7,
     "metadata": {},
     "output_type": "execute_result"
    }
   ],
   "source": [
    "df_mask_nii"
   ]
  },
  {
   "cell_type": "code",
   "execution_count": 8,
   "metadata": {},
   "outputs": [
    {
     "data": {
      "text/plain": [
       "Index(['filePath', 'volumeOfVoxel', 'spacing', 'imgAffineMetrix', 'fileName',\n",
       "       'data_dtype', 'niftiImgShape', 'XYZTunits', 'hdrRaw', '3dArrayMean',\n",
       "       '3dArrayStd', '3dArrayMin', '3dArrayMax', 'isUniqueValues',\n",
       "       'exceptionValueCountInBinary', '(quadrant_count)voxelVolumeEstimation',\n",
       "       '(quadrant_count)topBackLeft', '(quadrant_count)topBackRight',\n",
       "       '(quadrant_count)topFrontLeft', '(quadrant_count)topFrontRight',\n",
       "       '(quadrant_count)bottomBackLeft', '(quadrant_count)bottomBackRight',\n",
       "       '(quadrant_count)bottmoFrontLeft', '(quadrant_count)bottomFrontRight'],\n",
       "      dtype='object')"
      ]
     },
     "execution_count": 8,
     "metadata": {},
     "output_type": "execute_result"
    }
   ],
   "source": [
    "df_mask_nii.columns"
   ]
  },
  {
   "attachments": {},
   "cell_type": "markdown",
   "metadata": {},
   "source": [
    "- For binary files (mostly mask nifti files), divide the solid into 8 quadrants and count the number of integer 1s present in each quadrant.\n",
    "- If the sparse area is too wide, you can remove the sparse area through [monai.cropforeground](https://docs.monai.io/en/stable/transforms.html) or `edanif.get_nonzero3d` function. If there is a variant of the nifti file in edanif, the functions are located in the edanif.process module.\n"
   ]
  },
  {
   "attachments": {},
   "cell_type": "markdown",
   "metadata": {},
   "source": []
  }
 ],
 "metadata": {
  "kernelspec": {
   "display_name": "edanif",
   "language": "python",
   "name": "edanif"
  },
  "language_info": {
   "codemirror_mode": {
    "name": "ipython",
    "version": 3
   },
   "file_extension": ".py",
   "mimetype": "text/x-python",
   "name": "python",
   "nbconvert_exporter": "python",
   "pygments_lexer": "ipython3",
   "version": "3.9.12"
  },
  "orig_nbformat": 4
 },
 "nbformat": 4,
 "nbformat_minor": 2
}
